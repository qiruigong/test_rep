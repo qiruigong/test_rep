{
 "cells": [
  {
   "cell_type": "markdown",
   "metadata": {},
   "source": [
    "[Git link](https://raw.githubusercontent.com/zhiwehu/Python-programming-exercises/master/100%2B%20Python%20challenging%20programming%20exercises.txt)\n",
    " "
   ]
  },
  {
   "cell_type": "markdown",
   "metadata": {},
   "source": [
    " # Question 1\n",
    "------------------\n",
    "Level 1\n",
    "## Question:\n",
    "Write a program which will find all such numbers which are divisible by 7 but are not a multiple of 5,\n",
    "between 2000 and 3200 (both included).\n",
    "The numbers obtained should be printed in a comma-separated sequence on a single line.\n",
    "## Hints:\n",
    "Consider use `range(#begin, #end)` method"
   ]
  },
  {
   "cell_type": "code",
   "execution_count": 8,
   "metadata": {},
   "outputs": [
    {
     "name": "stdout",
     "output_type": "stream",
     "text": [
      "2002, 2009, 2016, 2023, 2037, 2044, 2051, 2058, 2072, 2079, 2086, 2093, 2107, 2114, 2121, 2128, 2142, 2149, 2156, 2163, 2177, 2184, 2191, 2198, 2212, 2219, 2226, 2233, 2247, 2254, 2261, 2268, 2282, 2289, 2296, 2303, 2317, 2324, 2331, 2338, 2352, 2359, 2366, 2373, 2387, 2394, 2401, 2408, 2422, 2429, 2436, 2443, 2457, 2464, 2471, 2478, 2492, 2499, 2506, 2513, 2527, 2534, 2541, 2548, 2562, 2569, 2576, 2583, 2597, 2604, 2611, 2618, 2632, 2639, 2646, 2653, 2667, 2674, 2681, 2688, 2702, 2709, 2716, 2723, 2737, 2744, 2751, 2758, 2772, 2779, 2786, 2793, 2807, 2814, 2821, 2828, 2842, 2849, 2856, 2863, 2877, 2884, 2891, 2898, 2912, 2919, 2926, 2933, 2947, 2954, 2961, 2968, 2982, 2989, 2996, 3003, 3017, 3024, 3031, 3038, 3052, 3059, 3066, 3073, 3087, 3094, 3101, 3108, 3122, 3129, 3136, 3143, 3157, 3164, 3171, 3178, 3192, 3199\n"
     ]
    }
   ],
   "source": [
    "#Solution:\n",
    "\n",
    "l=[]\n",
    "for i in range(2000,3201):\n",
    "    if (i % 7 == 0) and (i % 5 !=0) :\n",
    "        l.append(str(i))\n",
    "print(', '.join(l))"
   ]
  },
  {
   "cell_type": "markdown",
   "metadata": {},
   "source": [
    "# Question 2\n",
    "------------\n",
    "Level 1\n",
    "## Question:\n",
    "Write a program which can compute the factorial of a given numbers.\n",
    "The results should be printed in a comma-separated sequence on a single line.\n",
    "Suppose the following input is supplied to the program:\n",
    "8\n",
    "Then, the output should be:\n",
    "40320\n",
    "## Hints:\n",
    "In case of input data being supplied to the question, it should be assumed to be a console input."
   ]
  },
  {
   "cell_type": "code",
   "execution_count": 6,
   "metadata": {},
   "outputs": [
    {
     "name": "stdout",
     "output_type": "stream",
     "text": [
      "Please input an integer or \"q\" to quit. \n",
      "Not an effective input. Try again.\n",
      "Not an effective input. Try again.\n",
      "Not an effective input. Try again.\n",
      "Not an effective input. Try again.\n",
      "Not an effective input. Try again.\n",
      "Bye~\n"
     ]
    }
   ],
   "source": [
    "#Solution:\n",
    "\n",
    "out = []\n",
    "count = 0\n",
    "max_count = 5\n",
    "# 定义函数\n",
    "def fac(n):\n",
    "    ans=1\n",
    "    for i in range(1,n+1):\n",
    "        ans*=i\n",
    "    return ans\n",
    "# 正式处理\n",
    "## 输入数值\n",
    "\n",
    "## 检查是否为q，若为q则退出\n",
    "\n",
    "## 若不是q，尝试转换为数字，若报错，则提示输入正确的内容\n",
    "\n",
    "## 准换成功，继续处理\n",
    "tab=[]\n",
    "inpu=input(\"Please input an integer or \\\"q\\\" to quit. \")    \n",
    "\n",
    "while (inpu != 'q'):\n",
    "\n",
    "    try:\n",
    "        a = int(inpu)\n",
    "    except ValueError:\n",
    "        count += 1\n",
    "        if count > max_count:\n",
    "            break\n",
    "        inpu=input(\"Not an effective input. Try again.\")\n",
    "    else:\n",
    "        tab.append(inpu)\n",
    "        out.append( str(fac(a)) )\n",
    "        print('\\t'.join(tab))\n",
    "        print('\\t'.join(out))\n",
    "        inpu=input(\"Please input an integer or \\\"q\\\" to quit.\\n\") \n",
    "\n",
    "print(\"Bye~\")"
   ]
  },
  {
   "cell_type": "markdown",
   "metadata": {},
   "source": [
    "# Question 3\n",
    "--------\n",
    "Level 1\n",
    "## Question:\n",
    "With a given integral number n, write a program to generate a dictionary that contains (i, i\\*i) such that is an integral number between 1 and n (both included). and then the program should print the dictionary.\n",
    "Suppose the following input is supplied to the program:  \n",
    "8  \n",
    "Then, the output should be:  \n",
    "{1: 1, 2: 4, 3: 9, 4: 16, 5: 25, 6: 36, 7: 49, 8: 64}  \n",
    "## Hints:\n",
    "In case of input data being supplied to the question, it should be assumed to be a console input.\n",
    "Consider use dict()"
   ]
  },
  {
   "cell_type": "code",
   "execution_count": 7,
   "metadata": {
    "scrolled": true
   },
   "outputs": [
    {
     "name": "stdout",
     "output_type": "stream",
     "text": [
      "please input an integer\n",
      "2\n",
      "{1: 1, 2: 4}\n"
     ]
    }
   ],
   "source": [
    "n = int(input(\"please input an integer\\n\"))\n",
    "d = dict()\n",
    "for i in range(1,n+1):\n",
    "    d[i]=i*i\n",
    "print(d)"
   ]
  },
  {
   "cell_type": "markdown",
   "metadata": {},
   "source": [
    "# Question 4\n",
    "Level 1\n",
    "## Question:\n",
    "Write a program which accepts a sequence of comma-separated numbers from console and generate a list and a tuple which contains every number.\n",
    "Suppose the following input is supplied to the program:  \n",
    "34,67,55,33,12,98  \n",
    "Then, the output should be:  \n",
    "['34', '67', '55', '33', '12', '98']  \n",
    "('34', '67', '55', '33', '12', '98')  \n",
    "\n",
    "## Hints:\n",
    "In case of input data being supplied to the question, it should be assumed to be a console input.\n",
    "tuple() method can convert list to tuple"
   ]
  },
  {
   "cell_type": "code",
   "execution_count": 10,
   "metadata": {},
   "outputs": [
    {
     "name": "stdout",
     "output_type": "stream",
     "text": [
      "Please input a sequence of comma-separated numbers(e.g. \"34,67,55,33,12,98\")\n",
      "1,1,1,\n",
      "['1', '1', '1', '']\n",
      "('1', '1', '1', '')\n"
     ]
    }
   ],
   "source": [
    "x = input('Please input a sequence of comma-separated numbers(e.g. \"34,67,55,33,12,98\")\\n')\n",
    "x_list = x.split(',' )\n",
    "x_tuple = tuple(x_list)\n",
    "print(x_list)\n",
    "print(x_tuple)"
   ]
  },
  {
   "cell_type": "markdown",
   "metadata": {},
   "source": [
    "# Question 5\n",
    "Level 1  \n",
    "## Question:\n",
    "Define a class which has at least two methods:  \n",
    "getString: to get a string from console input  \n",
    "printString: to print the string in upper case.  \n",
    "Also please include simple test function to test the class methods.  \n",
    "## Hints:\n",
    "Use __init__ method to construct some parameters"
   ]
  },
  {
   "cell_type": "code",
   "execution_count": 15,
   "metadata": {},
   "outputs": [
    {
     "name": "stdout",
     "output_type": "stream",
     "text": [
      "Your input:\n",
      "sss\n",
      "SSS\n"
     ]
    }
   ],
   "source": [
    "class q5:\n",
    "    def __init__(self):\n",
    "        __x = None\n",
    "    def getString(self):\n",
    "        self.__x = input('Your input:\\n')\n",
    "    def printString(self):\n",
    "        print(self.__x.upper())\n",
    "\n",
    "test = q5()\n",
    "test.getString()\n",
    "test.printString()"
   ]
  },
  {
   "cell_type": "markdown",
   "metadata": {},
   "source": [
    "# Question 6\n",
    "Level 2  \n",
    "## Question:\n",
    "Write a program that calculates and prints the value according to the given formula:  \n",
    "\n",
    "    Q = Square root of [(2 * C * D)/H]  \n",
    "Following are the fixed values of C and H:  \n",
    "C is 50. H is 30.  \n",
    "D is the variable whose values should be input to your program in a comma-separated sequence.  \n",
    "### Example\n",
    "Let us assume the following comma separated input sequence is given to the program:  \n",
    "100,150,180  \n",
    "The output of the program should be:  \n",
    "18,22,24\n",
    "## Hints:\n",
    "If the output received is in decimal form, it should be rounded off to its nearest value (for example, if the output received is 26.0, it should be printed as 26)  \n",
    "In case of input data being supplied to the question, it should be assumed to be a console input. "
   ]
  },
  {
   "cell_type": "code",
   "execution_count": 25,
   "metadata": {},
   "outputs": [
    {
     "name": "stdout",
     "output_type": "stream",
     "text": [
      "Please input a comma separated sequence:\n",
      "100,150,180\n",
      "18,22,24\n"
     ]
    }
   ],
   "source": [
    "import math\n",
    "\n",
    "c = 50\n",
    "h = 30\n",
    "x = input('Please input a comma separated sequence:\\n')\n",
    "outp = []\n",
    "x_list = x.split(',')\n",
    "for each in x_list:\n",
    "    d = int(each)\n",
    "    y = (2*c*d/h)**0.5\n",
    "    y = math.floor(y)\n",
    "    outp.append(str(y))\n",
    "print(','.join(outp))"
   ]
  },
  {
   "cell_type": "code",
   "execution_count": null,
   "metadata": {},
   "outputs": [],
   "source": []
  },
  {
   "cell_type": "code",
   "execution_count": null,
   "metadata": {},
   "outputs": [],
   "source": []
  }
 ],
 "metadata": {
  "kernelspec": {
   "display_name": "Python 3",
   "language": "python",
   "name": "python3"
  },
  "language_info": {
   "codemirror_mode": {
    "name": "ipython",
    "version": 3
   },
   "file_extension": ".py",
   "mimetype": "text/x-python",
   "name": "python",
   "nbconvert_exporter": "python",
   "pygments_lexer": "ipython3",
   "version": "3.5.2"
  }
 },
 "nbformat": 4,
 "nbformat_minor": 2
}
